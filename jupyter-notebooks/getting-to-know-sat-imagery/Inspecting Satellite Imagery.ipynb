{
 "cells": [
  {
   "cell_type": "markdown",
   "metadata": {},
   "source": [
    "# Inspecting Satellite Imagery using Rasterio\n",
    "## A first look at satellite data with Python\n",
    "\n",
    "At this point, you will have learned different ways of searching for, filtering, and downloading satellite imagery. Now let's use one of these acquired datasets and dig into it a bit with Python.\n",
    "\n",
    "Here we're going to use a Python library called `rasterio`: you may be familiar with it already, or perhaps with the related C library, `GDAL`. If you've used `numpy` before, working with `rasterio` will feel very familiar."
   ]
  },
  {
   "cell_type": "code",
   "execution_count": 1,
   "metadata": {},
   "outputs": [],
   "source": [
    "import rasterio\n",
    "\n",
    "# feel free to replace 'example' with your own GeoTIFF:\n",
    "# note that this Notebook will assume we're working with PlanetScope 4-band imagery\n",
    "image_file = \"example.tif\"\n",
    "\n",
    "satdat = rasterio.open(image_file)"
   ]
  },
  {
   "cell_type": "markdown",
   "metadata": {},
   "source": [
    "## Basic details\n",
    "What can we learn about this satellite image using just Python?"
   ]
  },
  {
   "cell_type": "code",
   "execution_count": 2,
   "metadata": {},
   "outputs": [
    {
     "data": {
      "text/plain": [
       "BoundingBox(left=544170.0, bottom=3759147.0, right=550146.0, top=3766416.0)"
      ]
     },
     "execution_count": 2,
     "metadata": {},
     "output_type": "execute_result"
    }
   ],
   "source": [
    "# Get the bounding box of this GeoTIFF\n",
    "\n",
    "satdat.bounds"
   ]
  },
  {
   "cell_type": "code",
   "execution_count": 3,
   "metadata": {},
   "outputs": [
    {
     "name": "stdout",
     "output_type": "stream",
     "text": [
      "Width: 5976.0, Height: 7269.0\n"
     ]
    }
   ],
   "source": [
    "# Get dimensions, in map units (using the example GeoTIFF, that's meters)\n",
    "\n",
    "width = satdat.bounds.right - satdat.bounds.left\n",
    "height = satdat.bounds.top - satdat.bounds.bottom\n",
    "\n",
    "print(\"Width: {}, Height: {}\".format(width, height))"
   ]
  },
  {
   "cell_type": "code",
   "execution_count": 4,
   "metadata": {},
   "outputs": [
    {
     "name": "stdout",
     "output_type": "stream",
     "text": [
      "Width: 1992, Height: 2423\n"
     ]
    }
   ],
   "source": [
    "# Get dimensions, in pixels\n",
    "\n",
    "px_width = satdat.width\n",
    "px_height = satdat.height\n",
    "print(\"Width: {}, Height: {}\".format(px_width, px_height))"
   ]
  },
  {
   "cell_type": "code",
   "execution_count": 5,
   "metadata": {},
   "outputs": [
    {
     "data": {
      "text/plain": [
       "(3.0, 3.0)"
      ]
     },
     "execution_count": 5,
     "metadata": {},
     "output_type": "execute_result"
    }
   ],
   "source": [
    "# How many meters to a pixel?\n",
    "\n",
    "w = width / px_width\n",
    "h = height / px_height\n",
    "\n",
    "w, h"
   ]
  },
  {
   "cell_type": "code",
   "execution_count": 6,
   "metadata": {},
   "outputs": [
    {
     "data": {
      "text/plain": [
       "CRS({'init': 'epsg:32611'})"
      ]
     },
     "execution_count": 6,
     "metadata": {},
     "output_type": "execute_result"
    }
   ],
   "source": [
    "# Get coordinate reference system\n",
    "\n",
    "satdat.crs"
   ]
  },
  {
   "cell_type": "code",
   "execution_count": 7,
   "metadata": {},
   "outputs": [
    {
     "name": "stdout",
     "output_type": "stream",
     "text": [
      "Top left corner coordinates: (544170.0, 3766416.0)\n",
      "Bottom right corner coordinates: (562098.0, 3744609.0)\n"
     ]
    }
   ],
   "source": [
    "# Get coordinates of top-left & bottom right corners\n",
    "\n",
    "# NOTE: how to do this depends on your Rasterio version --\n",
    "# if you're running against a pre-1.0 release use satdat.affine instead\n",
    "\n",
    "topleft = satdat.transform * (0, 0)\n",
    "botright = satdat.transform * (width, height)\n",
    "    \n",
    "print(\"Top left corner coordinates: {}\".format(topleft))\n",
    "print(\"Bottom right corner coordinates: {}\".format(botright))"
   ]
  },
  {
   "cell_type": "code",
   "execution_count": 8,
   "metadata": {},
   "outputs": [
    {
     "data": {
      "text/plain": [
       "{'count': 4,\n",
       " 'crs': CRS({'init': 'epsg:32611'}),\n",
       " 'driver': 'GTiff',\n",
       " 'dtype': 'uint16',\n",
       " 'height': 2423,\n",
       " 'nodata': 0.0,\n",
       " 'transform': Affine(3.0, 0.0, 544170.0,\n",
       "       0.0, -3.0, 3766416.0),\n",
       " 'width': 1992}"
      ]
     },
     "execution_count": 8,
     "metadata": {},
     "output_type": "execute_result"
    }
   ],
   "source": [
    "# Another way of viewing most of the previous values:\n",
    "# Get the basic metadata of this GeoTIFF\n",
    "\n",
    "satdat.meta"
   ]
  },
  {
   "cell_type": "markdown",
   "metadata": {},
   "source": [
    "## Bands\n",
    "So far, we haven't done too much geospatial-raster-specific work yet. Since we know we're inspecting a multispectral satellite image, let's see what we can learn about its bands."
   ]
  },
  {
   "cell_type": "code",
   "execution_count": 9,
   "metadata": {},
   "outputs": [
    {
     "data": {
      "text/plain": [
       "(1, 2, 3, 4)"
      ]
     },
     "execution_count": 9,
     "metadata": {},
     "output_type": "execute_result"
    }
   ],
   "source": [
    "# Get the number of bands by listing their indices\n",
    "\n",
    "satdat.indexes"
   ]
  },
  {
   "cell_type": "markdown",
   "metadata": {},
   "source": [
    "Because we know we're look at a PlanetScope 4-band analytic satellite image, we can define the bands by their order:"
   ]
  },
  {
   "cell_type": "code",
   "execution_count": 10,
   "metadata": {},
   "outputs": [],
   "source": [
    "# PlanetScope 4-band band order: BGRN\n",
    "\n",
    "blue = satdat.read(1)\n",
    "green = satdat.read(2)\n",
    "red = satdat.read(3)\n",
    "nir = satdat.read(4)\n",
    "\n",
    "# or:\n",
    "# blue, green, red, nir = satdat.read()"
   ]
  },
  {
   "cell_type": "markdown",
   "metadata": {},
   "source": [
    "## Pixels\n",
    "\n",
    "In a raster dataset, each pixel has a value. Pixels are arranged in a grid, and pixels representing equivalent data have the same value:\n",
    "\n",
    "![pixels2.png](pixels2.png)"
   ]
  },
  {
   "cell_type": "code",
   "execution_count": 12,
   "metadata": {},
   "outputs": [
    {
     "name": "stdout",
     "output_type": "stream",
     "text": [
      "<class 'numpy.ndarray'>\n"
     ]
    }
   ],
   "source": [
    "# bands are stored as numpy arrays\n",
    "\n",
    "print(type(blue))"
   ]
  },
  {
   "cell_type": "code",
   "execution_count": 13,
   "metadata": {},
   "outputs": [
    {
     "name": "stdout",
     "output_type": "stream",
     "text": [
      "2\n"
     ]
    }
   ],
   "source": [
    "# how many dimensions would a raster have?\n",
    "\n",
    "print(blue.ndim)"
   ]
  },
  {
   "cell_type": "code",
   "execution_count": 14,
   "metadata": {},
   "outputs": [
    {
     "name": "stdout",
     "output_type": "stream",
     "text": [
      "[[7261 7137 7087 ... 7015 6868 6891]\n",
      " [7180 7076 7166 ... 7387 7391 7431]\n",
      " [7424 7436 7443 ... 7497 7713 7760]\n",
      " ...\n",
      " [7791 7840 8139 ... 7108 7086 7267]\n",
      " [7873 8132 8441 ... 7134 7023 7042]\n",
      " [8320 8464 8542 ... 6893 6921 6989]]\n"
     ]
    }
   ],
   "source": [
    "# take a look at the summarized array\n",
    "\n",
    "print(blue)"
   ]
  },
  {
   "cell_type": "code",
   "execution_count": 15,
   "metadata": {},
   "outputs": [
    {
     "name": "stdout",
     "output_type": "stream",
     "text": [
      "3493 22058\n",
      "2905 17846\n",
      "2048 19242\n",
      "1132 13004\n"
     ]
    }
   ],
   "source": [
    "# Output a min & max pixel value in each band\n",
    "\n",
    "# we'll need to use numpy directly for this\n",
    "import numpy\n",
    "\n",
    "print(numpy.amin(blue), numpy.amax(blue))\n",
    "print(numpy.amin(green), numpy.amax(green))\n",
    "print(numpy.amin(red), numpy.amax(red))\n",
    "print(numpy.amin(nir), numpy.amax(nir))"
   ]
  },
  {
   "cell_type": "code",
   "execution_count": 16,
   "metadata": {},
   "outputs": [
    {
     "name": "stdout",
     "output_type": "stream",
     "text": [
      "Red: 8296\n",
      "Green: 8579\n",
      "Blue: 8642\n",
      "NIR: 7606\n"
     ]
    }
   ],
   "source": [
    "# Let's grab the pixel 2km east and 2km south of the upper left corner\n",
    "\n",
    "# get the pixel \n",
    "px_x = satdat.bounds.left + 2000\n",
    "px_y = satdat.bounds.top - 2000\n",
    "\n",
    "row, col = satdat.index(px_x, px_y)\n",
    "\n",
    "# Now let's look at the value of each band at this pixel\n",
    "print(\"Red: {}\".format(red[row, col]))\n",
    "print(\"Green: {}\".format(green[row, col]))\n",
    "print(\"Blue: {}\".format(blue[row, col]))\n",
    "print(\"NIR: {}\".format(nir[row, col]))"
   ]
  },
  {
   "cell_type": "code",
   "execution_count": null,
   "metadata": {},
   "outputs": [],
   "source": []
  }
 ],
 "metadata": {
  "kernelspec": {
   "display_name": "Python 3",
   "language": "python",
   "name": "python3"
  },
  "language_info": {
   "codemirror_mode": {
    "name": "ipython",
    "version": 3
   },
   "file_extension": ".py",
   "mimetype": "text/x-python",
   "name": "python",
   "nbconvert_exporter": "python",
   "pygments_lexer": "ipython3",
   "version": "3.6.3"
  }
 },
 "nbformat": 4,
 "nbformat_minor": 2
}
